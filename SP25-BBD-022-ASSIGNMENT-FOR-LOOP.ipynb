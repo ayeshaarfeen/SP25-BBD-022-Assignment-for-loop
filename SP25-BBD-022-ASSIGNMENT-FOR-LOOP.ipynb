{
  "metadata": {
    "kernelspec": {
      "name": "python",
      "display_name": "Python (Pyodide)",
      "language": "python"
    },
    "language_info": {
      "codemirror_mode": {
        "name": "python",
        "version": 3
      },
      "file_extension": ".py",
      "mimetype": "text/x-python",
      "name": "python",
      "nbconvert_exporter": "python",
      "pygments_lexer": "ipython3",
      "version": "3.8"
    }
  },
  "nbformat_minor": 5,
  "nbformat": 4,
  "cells": [
    {
      "id": "a6f539fc-1d1b-4d17-bd9a-7d89399b67aa",
      "cell_type": "code",
      "source": "#Assignment 1",
      "metadata": {
        "trusted": true
      },
      "outputs": [],
      "execution_count": 1
    },
    {
      "id": "5cd3c25d-f2be-4c6a-ba8a-3f8b628e02f0",
      "cell_type": "code",
      "source": "#Question 1:",
      "metadata": {
        "trusted": true
      },
      "outputs": [],
      "execution_count": 2
    },
    {
      "id": "b9a991d8-d962-4505-9ef3-456c71487646",
      "cell_type": "code",
      "source": "for i in range(2,21,2):\n    print(i)",
      "metadata": {
        "trusted": true
      },
      "outputs": [
        {
          "name": "stdout",
          "output_type": "stream",
          "text": "2\n4\n6\n8\n10\n12\n14\n16\n18\n20\n"
        }
      ],
      "execution_count": 3
    },
    {
      "id": "5b2517fd-5f2e-40fa-9539-c56c14d6019e",
      "cell_type": "code",
      "source": "#Question 2:",
      "metadata": {
        "trusted": true
      },
      "outputs": [],
      "execution_count": 4
    },
    {
      "id": "ba91ae16-ab92-428d-a8f8-77b8357e9165",
      "cell_type": "code",
      "source": "names=[\"elina\",\"sadia\",\"alishba\"]\nfor name in names:\n    print(name.upper())",
      "metadata": {
        "trusted": true
      },
      "outputs": [
        {
          "name": "stdout",
          "output_type": "stream",
          "text": "ELINA\nSADIA\nALISHBA\n"
        }
      ],
      "execution_count": 5
    },
    {
      "id": "ea738578-e12d-4907-89a4-1d4d600a114b",
      "cell_type": "code",
      "source": "#Question 3:",
      "metadata": {
        "trusted": true
      },
      "outputs": [],
      "execution_count": 6
    },
    {
      "id": "17ea711c-c4ca-4437-9b9c-8b2523675e58",
      "cell_type": "code",
      "source": "for num in range(10,0,-1):\n    print(num)",
      "metadata": {
        "trusted": true
      },
      "outputs": [
        {
          "name": "stdout",
          "output_type": "stream",
          "text": "10\n9\n8\n7\n6\n5\n4\n3\n2\n1\n"
        }
      ],
      "execution_count": 7
    },
    {
      "id": "c27f7130-8051-43fb-8bd8-43027be106ea",
      "cell_type": "code",
      "source": "#Question 4:",
      "metadata": {
        "trusted": true
      },
      "outputs": [],
      "execution_count": 8
    },
    {
      "id": "4b37de68-5530-41b4-aad8-279541c0386d",
      "cell_type": "code",
      "source": "numbers=[3,8,12,18,25,30,41,45]\nfor num in numbers:\n    if num % 3 == 0 :\n        print(num)",
      "metadata": {
        "trusted": true
      },
      "outputs": [
        {
          "name": "stdout",
          "output_type": "stream",
          "text": "3\n12\n18\n30\n45\n"
        }
      ],
      "execution_count": 9
    },
    {
      "id": "a83ad095-3c49-4e81-899e-e9a3ec87418a",
      "cell_type": "code",
      "source": "#Question 5:",
      "metadata": {
        "trusted": true
      },
      "outputs": [],
      "execution_count": 10
    },
    {
      "id": "ed3ea631-b539-46ec-b603-dec99846067c",
      "cell_type": "code",
      "source": "for num in range(1, 11):\n    print(num**2)",
      "metadata": {
        "trusted": true
      },
      "outputs": [
        {
          "name": "stdout",
          "output_type": "stream",
          "text": "1\n4\n9\n16\n25\n36\n49\n64\n81\n100\n"
        }
      ],
      "execution_count": 11
    },
    {
      "id": "114de541-a5d5-47b8-b857-be34a6e91ea3",
      "cell_type": "code",
      "source": "#Question 6:",
      "metadata": {
        "trusted": true
      },
      "outputs": [],
      "execution_count": 12
    },
    {
      "id": "39a48625-9865-4b6c-81c2-64e45705dd6a",
      "cell_type": "code",
      "source": "celsius=[0,10,20,30,40]\nfahrenheit=[]\nfor temperature in celsius:\n    converted_temperature=(temperature* 9/5) + 32\n    print(converted_temperature)",
      "metadata": {
        "trusted": true
      },
      "outputs": [
        {
          "name": "stdout",
          "output_type": "stream",
          "text": "32.0\n50.0\n68.0\n86.0\n104.0\n"
        }
      ],
      "execution_count": 16
    },
    {
      "id": "19b32805-ab36-401f-972c-f1c45d3c85c3",
      "cell_type": "code",
      "source": "#Question 7:",
      "metadata": {
        "trusted": true
      },
      "outputs": [],
      "execution_count": 17
    },
    {
      "id": "eb02255f-07df-46da-be85-3f497ddc51f8",
      "cell_type": "code",
      "source": "for i in range(1, 11):\n    print(f\"5 * {i} = {5 * i}\")",
      "metadata": {
        "trusted": true
      },
      "outputs": [
        {
          "name": "stdout",
          "output_type": "stream",
          "text": "5 * 1 = 5\n5 * 2 = 10\n5 * 3 = 15\n5 * 4 = 20\n5 * 5 = 25\n5 * 6 = 30\n5 * 7 = 35\n5 * 8 = 40\n5 * 9 = 45\n5 * 10 = 50\n"
        }
      ],
      "execution_count": 18
    },
    {
      "id": "2a359b1d-5bf9-4eb1-924e-c3fdb3e1d251",
      "cell_type": "code",
      "source": "#Question 8:",
      "metadata": {
        "trusted": true
      },
      "outputs": [],
      "execution_count": 19
    },
    {
      "id": "c5a4885b-9af4-4cd4-93a6-c7902167ac50",
      "cell_type": "code",
      "source": "numbers=[10,20,30,40,50]\ntotal=0\nfor num in numbers:\n    total+=num\n    print(\"The sum of all numbers in the list is:\", total)",
      "metadata": {
        "trusted": true
      },
      "outputs": [
        {
          "name": "stdout",
          "output_type": "stream",
          "text": "The sum of all numbers in the list is: 10\nThe sum of all numbers in the list is: 30\nThe sum of all numbers in the list is: 60\nThe sum of all numbers in the list is: 100\nThe sum of all numbers in the list is: 150\n"
        }
      ],
      "execution_count": 20
    },
    {
      "id": "6cd2d76d-4e04-4168-985b-269b2d89de44",
      "cell_type": "code",
      "source": "#Question 9:",
      "metadata": {
        "trusted": true
      },
      "outputs": [],
      "execution_count": 21
    },
    {
      "id": "876b270f-5133-444b-a3fb-1d5becf7e147",
      "cell_type": "code",
      "source": "text=\"Hello, World!\"\nfor char in text:\n    print(char)",
      "metadata": {
        "trusted": true
      },
      "outputs": [
        {
          "name": "stdout",
          "output_type": "stream",
          "text": "H\ne\nl\nl\no\n,\n \nW\no\nr\nl\nd\n!\n"
        }
      ],
      "execution_count": 22
    },
    {
      "id": "2ec9b76f-13c8-48d2-83d8-d0fc3344e598",
      "cell_type": "code",
      "source": "#Question 10:",
      "metadata": {
        "trusted": true
      },
      "outputs": [],
      "execution_count": 23
    },
    {
      "id": "e5b3eace-3830-46f8-9f19-1d2c548f8c9b",
      "cell_type": "code",
      "source": "words=[\"apple\",\"grapes\",\"banana\",\"strawberry\",\"kiwi\",\"orange\"]\nfor word in words:\n    if len(word) > 5:\n        print(word)",
      "metadata": {
        "trusted": true
      },
      "outputs": [
        {
          "name": "stdout",
          "output_type": "stream",
          "text": "grapes\nbanana\nstrawberry\norange\n"
        }
      ],
      "execution_count": 24
    },
    {
      "id": "8d713829-47d1-4bb0-8050-cd31e5b8d6a6",
      "cell_type": "code",
      "source": "",
      "metadata": {
        "trusted": true
      },
      "outputs": [],
      "execution_count": null
    }
  ]
}